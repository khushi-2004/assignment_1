{
 "cells": [
  {
   "cell_type": "code",
   "execution_count": 7,
   "id": "3a39a41e-1522-410e-bebb-f2108a074d62",
   "metadata": {},
   "outputs": [
    {
     "data": {
      "text/plain": [
       "[23, 'kuku', 45.78, [4, 67], (45, 7.8)]"
      ]
     },
     "execution_count": 7,
     "metadata": {},
     "output_type": "execute_result"
    }
   ],
   "source": [
    "#answer 1\n",
    "\n",
    "a=[23,'kuku',45.78,[4,67],(45,7.8)]\n",
    "a"
   ]
  },
  {
   "cell_type": "code",
   "execution_count": null,
   "id": "caf95abe-cc0e-4786-9cf5-065bd1450e3c",
   "metadata": {},
   "outputs": [],
   "source": []
  },
  {
   "cell_type": "code",
   "execution_count": 3,
   "id": "74a50af7-cd90-4cb1-a878-da75a8ae3532",
   "metadata": {},
   "outputs": [
    {
     "data": {
      "text/plain": [
       "float"
      ]
     },
     "execution_count": 3,
     "metadata": {},
     "output_type": "execute_result"
    }
   ],
   "source": [
    "#answer 2\n",
    "\n",
    "var1=''\n",
    "type(var1)"
   ]
  },
  {
   "cell_type": "code",
   "execution_count": 4,
   "id": "96425381-521b-4681-a1d1-699c84c15ea3",
   "metadata": {},
   "outputs": [
    {
     "data": {
      "text/plain": [
       "str"
      ]
     },
     "execution_count": 4,
     "metadata": {},
     "output_type": "execute_result"
    }
   ],
   "source": [
    "var2='[Ds,ML,Python]'\n",
    "type(var2)"
   ]
  },
  {
   "cell_type": "code",
   "execution_count": 5,
   "id": "df16d11a-1969-4255-941e-70f5b97f09ed",
   "metadata": {},
   "outputs": [
    {
     "data": {
      "text/plain": [
       "list"
      ]
     },
     "execution_count": 5,
     "metadata": {},
     "output_type": "execute_result"
    }
   ],
   "source": [
    "var3=['Ds','ML','python']\n",
    "type(var3)"
   ]
  },
  {
   "cell_type": "code",
   "execution_count": 6,
   "id": "70408e66-a12c-47d9-8165-f87ac23bf337",
   "metadata": {},
   "outputs": [
    {
     "data": {
      "text/plain": [
       "float"
      ]
     },
     "execution_count": 6,
     "metadata": {},
     "output_type": "execute_result"
    }
   ],
   "source": [
    "var4=1.\n",
    "type(var4)"
   ]
  },
  {
   "cell_type": "code",
   "execution_count": 8,
   "id": "13bb7b83-f7e0-4403-a3b7-55d920d00092",
   "metadata": {},
   "outputs": [
    {
     "data": {
      "text/plain": [
       "9.88888888888889"
      ]
     },
     "execution_count": 8,
     "metadata": {},
     "output_type": "execute_result"
    }
   ],
   "source": [
    "#answer 3\n",
    "# '/' this is use for devide\n",
    "a=89\n",
    "b=9\n",
    "a/b"
   ]
  },
  {
   "cell_type": "code",
   "execution_count": 9,
   "id": "2da461ba-5b00-401d-aa14-77ce400b8438",
   "metadata": {},
   "outputs": [
    {
     "data": {
      "text/plain": [
       "8"
      ]
     },
     "execution_count": 9,
     "metadata": {},
     "output_type": "execute_result"
    }
   ],
   "source": [
    "# '%' this is use for module\n",
    "a%b"
   ]
  },
  {
   "cell_type": "code",
   "execution_count": 10,
   "id": "a0a73ae2-9183-49ed-b42f-b5e8c4a4a8a2",
   "metadata": {},
   "outputs": [
    {
     "data": {
      "text/plain": [
       "9"
      ]
     },
     "execution_count": 10,
     "metadata": {},
     "output_type": "execute_result"
    }
   ],
   "source": [
    "# '//' this is flor operator\n",
    "a//b"
   ]
  },
  {
   "cell_type": "code",
   "execution_count": 11,
   "id": "c2f78c4b-f303-4ce3-b261-a6c0ab267007",
   "metadata": {},
   "outputs": [
    {
     "data": {
      "text/plain": [
       "729"
      ]
     },
     "execution_count": 11,
     "metadata": {},
     "output_type": "execute_result"
    }
   ],
   "source": [
    "# '**' this is use for power\n",
    "b**3"
   ]
  },
  {
   "cell_type": "code",
   "execution_count": 15,
   "id": "ad90fca6-aeaa-4068-9607-4cdeae3f65b1",
   "metadata": {},
   "outputs": [
    {
     "name": "stdout",
     "output_type": "stream",
     "text": [
      "1\n",
      "<class 'int'>\n",
      "2.45\n",
      "<class 'float'>\n",
      "R_language\n",
      "<class 'str'>\n",
      "python\n",
      "<class 'str'>\n",
      "True\n",
      "<class 'bool'>\n",
      "34\n",
      "<class 'int'>\n",
      "90\n",
      "<class 'int'>\n",
      "False\n",
      "<class 'bool'>\n",
      "67\n",
      "<class 'int'>\n",
      "89.89\n",
      "<class 'float'>\n",
      "90\n",
      "<class 'int'>\n"
     ]
    }
   ],
   "source": [
    "# answer 4\n",
    "list=[1,2.45,'R_language','python',True,34,90,False,67,89.890,90]\n",
    "for i in list:\n",
    "    print(i)\n",
    "    print(type(i))"
   ]
  },
  {
   "cell_type": "code",
   "execution_count": 1,
   "id": "01472f1f-1485-4e04-99e4-711b501fa139",
   "metadata": {},
   "outputs": [
    {
     "name": "stdin",
     "output_type": "stream",
     "text": [
      "enter a num:  67\n",
      "enter a num:  4\n"
     ]
    },
    {
     "name": "stdout",
     "output_type": "stream",
     "text": [
      "it is not purely divisible\n"
     ]
    }
   ],
   "source": [
    "# answere 5\n",
    "a=int(input(\"enter a num: \"))\n",
    "b=int(input(\"enter a num: \"))\n",
    "while(b!=0):\n",
    "    if(a%b==0):\n",
    "        print(a//b)\n",
    "        break\n",
    "    print(\"it is not purely divisible\")\n",
    "    break"
   ]
  },
  {
   "cell_type": "code",
   "execution_count": 2,
   "id": "a19bc513-c919-4138-9761-56d2845a2711",
   "metadata": {},
   "outputs": [
    {
     "name": "stdout",
     "output_type": "stream",
     "text": [
      "1\n",
      "not divisible\n",
      "2\n",
      "not divisible\n",
      "3\n",
      "is divisible by 3\n",
      "4\n",
      "not divisible\n",
      "5\n",
      "not divisible\n",
      "6\n",
      "is divisible by 3\n",
      "7\n",
      "not divisible\n",
      "8\n",
      "not divisible\n",
      "9\n",
      "is divisible by 3\n",
      "0\n",
      "is divisible by 3\n",
      "11\n",
      "not divisible\n",
      "12\n",
      "is divisible by 3\n",
      "13\n",
      "not divisible\n",
      "14\n",
      "not divisible\n",
      "15\n",
      "is divisible by 3\n",
      "16\n",
      "not divisible\n",
      "17\n",
      "not divisible\n",
      "18\n",
      "is divisible by 3\n",
      "19\n",
      "not divisible\n",
      "20\n",
      "not divisible\n",
      "21\n",
      "is divisible by 3\n",
      "22\n",
      "not divisible\n",
      "23\n",
      "not divisible\n",
      "24\n",
      "is divisible by 3\n"
     ]
    }
   ],
   "source": [
    "list=[1,2,3,4,5,6,7,8,9,0,11,12,13,14,15,16,17,18,19,20,21,22,23,24]\n",
    "for i in list:\n",
    "    if(i%3==0):\n",
    "        print(i)\n",
    "        print(\"is divisible by 3\")\n",
    "    else:\n",
    "        print(i)\n",
    "        print(\"not divisible\")\n",
    "        "
   ]
  },
  {
   "cell_type": "code",
   "execution_count": 3,
   "id": "6fe10881-ed5a-45c4-8d82-6c887474c6a2",
   "metadata": {},
   "outputs": [
    {
     "data": {
      "text/plain": [
       "[34, 'python', 6, 'java']"
      ]
     },
     "execution_count": 3,
     "metadata": {},
     "output_type": "execute_result"
    }
   ],
   "source": [
    "# answer 7\n",
    "# mutable: when we change the element in any index\n",
    "l=[34,5,6,'java']\n",
    "l[1]\n",
    "l[1]='python'\n",
    "l"
   ]
  },
  {
   "cell_type": "code",
   "execution_count": 4,
   "id": "c030fc0f-99ed-4c36-91d3-692803e68076",
   "metadata": {},
   "outputs": [
    {
     "ename": "NameError",
     "evalue": "name 'c' is not defined",
     "output_type": "error",
     "traceback": [
      "\u001b[0;31m---------------------------------------------------------------------------\u001b[0m",
      "\u001b[0;31mNameError\u001b[0m                                 Traceback (most recent call last)",
      "Cell \u001b[0;32mIn[4], line 4\u001b[0m\n\u001b[1;32m      2\u001b[0m string\u001b[38;5;241m=\u001b[39m\u001b[38;5;124m'\u001b[39m\u001b[38;5;124mkhushijangid\u001b[39m\u001b[38;5;124m'\u001b[39m\n\u001b[1;32m      3\u001b[0m string[\u001b[38;5;241m0\u001b[39m]\n\u001b[0;32m----> 4\u001b[0m string[\u001b[38;5;241m0\u001b[39m]\u001b[38;5;241m=\u001b[39m\u001b[43mc\u001b[49m\n\u001b[1;32m      5\u001b[0m string\n",
      "\u001b[0;31mNameError\u001b[0m: name 'c' is not defined"
     ]
    }
   ],
   "source": [
    "# imutable: when we don't change element in given index\n",
    "string='khushijangid'\n",
    "string[0]\n",
    "string[0]=c\n",
    "string"
   ]
  }
 ],
 "metadata": {
  "kernelspec": {
   "display_name": "Python 3 (ipykernel)",
   "language": "python",
   "name": "python3"
  },
  "language_info": {
   "codemirror_mode": {
    "name": "ipython",
    "version": 3
   },
   "file_extension": ".py",
   "mimetype": "text/x-python",
   "name": "python",
   "nbconvert_exporter": "python",
   "pygments_lexer": "ipython3",
   "version": "3.10.8"
  }
 },
 "nbformat": 4,
 "nbformat_minor": 5
}
